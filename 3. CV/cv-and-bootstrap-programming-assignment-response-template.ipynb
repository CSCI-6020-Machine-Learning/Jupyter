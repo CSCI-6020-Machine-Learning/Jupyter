{
 "cells": [
  {
   "cell_type": "markdown",
   "metadata": {},
   "source": [
    "# Programming Assignment 02\n",
    "## Cross-Validation (CV) and Bootstrap\n",
    "\n",
    "**Assignment Goal**: Demonstrate your expertise in computing the LOOCV error for a simple logistic regression model.\n",
    "\n",
    "You can complete this assignment using either of the following computational environments: \n",
    "\n",
    "- **R/RStudio**, or \n",
    "\n",
    "- **Anaconda/JupyterLab**.\n",
    "\n",
    "\n",
    "You have seen how to use these environments in class earlier."
   ]
  },
  {
   "cell_type": "markdown",
   "metadata": {},
   "source": [
    "\n",
    "\n",
    "## Problem Statement\n",
    "\n",
    "In Sections 5.3.2 and 5.3.3 of the textbook, we saw that the cv.glm() function can be\n",
    "used in order to compute the LOOCV test error estimate. Alternatively, one could compute those quantities using just the glm() and predict.glm() functions, and a for loop. You will now take this approach in order to compute the LOOCV error for a simple logistic regression model on the Weekly dataset. Recall that in the context\n",
    "of classification problems, the LOOCV error is given in Section (5.4)."
   ]
  },
  {
   "cell_type": "markdown",
   "metadata": {},
   "source": [
    "### (a)\n",
    "\n",
    "Fit a logistic regressionmodel that predicts **Direction** using **Lag1** and **Lag2**."
   ]
  },
  {
   "cell_type": "code",
   "execution_count": null,
   "metadata": {},
   "outputs": [],
   "source": [
    "# your answer goes here\n"
   ]
  },
  {
   "cell_type": "markdown",
   "metadata": {},
   "source": [
    "### (b)\n",
    "\n",
    "Fit a logistic regressionmodel that predicts **Direction** using **Lag1** and **Lag2** using all but the first observation."
   ]
  },
  {
   "cell_type": "code",
   "execution_count": null,
   "metadata": {},
   "outputs": [],
   "source": [
    "# your answer goes here\n"
   ]
  },
  {
   "cell_type": "markdown",
   "metadata": {},
   "source": [
    "### (c)\n",
    "\n",
    "Use the model from (b) to predict the direction of the first observation. You can do this by predicting that the first observation will go up if P(Directio n= \"Up\" | Lag1, Lag2) > 0.5. Was this observation correctly classified?"
   ]
  },
  {
   "cell_type": "code",
   "execution_count": null,
   "metadata": {},
   "outputs": [],
   "source": [
    "# your answer goes here\n"
   ]
  },
  {
   "cell_type": "markdown",
   "metadata": {},
   "source": [
    "### (d)\n",
    "\n",
    "Write a for loop from i = 1 to $i = n$, where $n$ is the number of observations in the dataset, that performs each of the following steps:"
   ]
  },
  {
   "cell_type": "markdown",
   "metadata": {},
   "source": [
    "#### (i)\n",
    "\n",
    "Fit a logistic regression model using all but the $i^{th}$ observation to predict **Direction** using **Lag1** and **Lag2**."
   ]
  },
  {
   "cell_type": "code",
   "execution_count": null,
   "metadata": {},
   "outputs": [],
   "source": [
    "# your answer goes here\n"
   ]
  },
  {
   "cell_type": "markdown",
   "metadata": {},
   "source": [
    "#### (ii)\n",
    "\n",
    "Compute the posterior probability of the market moving up for the $i^{th}$ observation."
   ]
  },
  {
   "cell_type": "code",
   "execution_count": null,
   "metadata": {},
   "outputs": [],
   "source": [
    "# your answer goes here\n"
   ]
  },
  {
   "cell_type": "markdown",
   "metadata": {},
   "source": [
    "#### (iii)\n",
    "\n",
    "Use the posterior probability for the $i^{th}$ observation in order to predict whether or not the market moves up."
   ]
  },
  {
   "cell_type": "code",
   "execution_count": null,
   "metadata": {},
   "outputs": [],
   "source": [
    "# your answer goes here\n"
   ]
  },
  {
   "cell_type": "markdown",
   "metadata": {},
   "source": [
    "#### (iv)\n",
    "\n",
    "Determine whether or not an error was made in predicting the direction for the $i^{th}$ observation. If an error was made, then indicate this as a 1, and otherwise indicate it as a 0."
   ]
  },
  {
   "cell_type": "code",
   "execution_count": null,
   "metadata": {},
   "outputs": [],
   "source": [
    "# your answer goes here\n"
   ]
  },
  {
   "cell_type": "markdown",
   "metadata": {},
   "source": [
    "### (e)\n",
    "\n",
    "Take the average of the n numbers obtained in **(d)(iv)** above in order to obtain the LOOCV estimate for the test error. Comment on the results."
   ]
  },
  {
   "cell_type": "code",
   "execution_count": null,
   "metadata": {},
   "outputs": [],
   "source": [
    "# your answer goes here\n"
   ]
  }
 ],
 "metadata": {
  "kernelspec": {
   "display_name": "Python 3",
   "language": "python",
   "name": "python3"
  },
  "language_info": {
   "codemirror_mode": {
    "name": "ipython",
    "version": 3
   },
   "file_extension": ".py",
   "mimetype": "text/x-python",
   "name": "python",
   "nbconvert_exporter": "python",
   "pygments_lexer": "ipython3",
   "version": "3.6.5"
  }
 },
 "nbformat": 4,
 "nbformat_minor": 2
}
